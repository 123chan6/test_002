{
  "nbformat": 4,
  "nbformat_minor": 0,
  "metadata": {
    "colab": {
      "name": "Untitled1.ipynb",
      "provenance": [],
      "authorship_tag": "ABX9TyOakUNDSFCihNFHZrt5l7Dt",
      "include_colab_link": true
    },
    "kernelspec": {
      "name": "python3",
      "display_name": "Python 3"
    },
    "language_info": {
      "name": "python"
    }
  },
  "cells": [
    {
      "cell_type": "markdown",
      "metadata": {
        "id": "view-in-github",
        "colab_type": "text"
      },
      "source": [
        "<a href=\"https://colab.research.google.com/github/123chan6/test_002/blob/main/%EC%88%98%ED%96%89%ED%8F%89%EA%B0%80.ipynb\" target=\"_parent\"><img src=\"https://colab.research.google.com/assets/colab-badge.svg\" alt=\"Open In Colab\"/></a>"
      ]
    },
    {
      "cell_type": "code",
      "source": [
        "# 2022학년도 1학년 1학기 프로그래밍(파이썬) 수행평가\n",
        "# 한양공업고등학교 1학년 12반 3번 김승찬\n",
        "\n",
        "# 1 . 변수 사용하기\n",
        "\n",
        "삼성전자 = 50000\n",
        "print(\"1 번 문제\")\n",
        "print(\"삼성전자 주식 10주 가치 : \" , 삼성전자*10 , \"(원)\")\n",
        "\n",
        "print()\n",
        "\n",
        "# 2 . 문자열을 정수로 변환\n",
        "\n",
        "year = \"2020\"\n",
        "print(\"2 번 문제\")\n",
        "print(\"최근 3년의 연도 : \" ,int(year)-3 ,\"년\", int(year)-2 , \"년\" , int(year)-1 , \"년\")\n",
        "\n",
        "print()\n",
        "\n",
        "# 3 . 아래 문자열에서 '홀' 만 출력하세요\n",
        "\n",
        "string = \"홀짝홀짝홀짝\"\n",
        "print(\"3 번 문제\")\n",
        "for i in range(0 , 5 , 2):\n",
        "  print(string[i], end = \"\")\n",
        "print()\n",
        "\n",
        "print()\n",
        "\n",
        "# 4 . 문자열을 거꾸로 뒤집어 출력하세요\n",
        "\n",
        "string = \"PYTHON\"\n",
        "string_list = list(string)\n",
        "string_list.reverse()\n",
        "print(\"4 번 문제\")\n",
        "for i in range(len(string)) :\n",
        "  print(string_list[i] , end = \"\") #이렇게 푸는게 맞나\n",
        "print()\n",
        "\n",
        "print()\n",
        "\n",
        "# 5 . movie_rank 리스트에는 아래와 같이 네 개의 영화 제목이 바인딩 되어 있다\n",
        "# \"슈퍼맨\"을 \"닥터 스트레인지\"와 \"스플릿\" 사이에 추가하라\n",
        "\n",
        "movie_rank = ['닥터 스트레인지' , '스플릿' , '럭키' , '배트맨']\n",
        "movie_rank.insert(1,'슈퍼맨')\n",
        "print(\"5 번 문제\")\n",
        "print(movie_rank)\n",
        "\n",
        "print()\n",
        "\n",
        "# 6 . 슬라이싱을 사용해서 홀수만 출력하라\n",
        "\n",
        "nums = [1 , 2 , 3 , 4 , 5 , 6 , 7 , 8 , 9 , 10]\n",
        "nums_ans = []\n",
        "print(\"6 번 문제\")\n",
        "for i in range(0 , 10 , 2):\n",
        "  nums_ans.append(nums[i])\n",
        "print(nums_ans)\n",
        "\n",
        "print()\n",
        "\n",
        "# 7. 리스트에 있는 값을 오름차순으로 정렬하세요\n",
        "\n",
        "data = [2 , 4 , 3 , 1 , 5 , 10 , 9]\n",
        "\n",
        "data.sort()\n",
        "print(\"7 번 문제\")\n",
        "print(data)\n",
        "\n",
        "print()\n",
        "\n",
        "# 8 . 문자열 출력\n",
        "#변수에 다음과 같이 문자열과 정수가 바인딩되어 있을 때 % formatting 을 사용해서 다음과 같이 출력해보세요\n",
        "\n",
        "name1 = \"김민수\"\n",
        "age1 = 10\n",
        "name2 = \"이철희\"\n",
        "age2 = 13\n",
        "print(\"8 번 문제\")\n",
        "print(\"\"\"이름 : %s 나이 : %s\n",
        "이름 : %s 나이 : %s\"\"\"%(name1 , age1 , name2 , age2))"
      ],
      "metadata": {
        "colab": {
          "base_uri": "https://localhost:8080/"
        },
        "id": "55rQ2kqXC-j3",
        "outputId": "464d2de7-6312-4021-c54f-7befce29ae2d"
      },
      "execution_count": 127,
      "outputs": [
        {
          "output_type": "stream",
          "name": "stdout",
          "text": [
            "1 번 문제\n",
            "삼성전자 주식 10주 가치 :  500000 (원)\n",
            "\n",
            "2 번 문제\n",
            "최근 3년의 연도 :  2017 년 2018 년 2019 년\n",
            "\n",
            "3 번 문제\n",
            "홀홀홀\n",
            "\n",
            "4 번 문제\n",
            "NOHTYP\n",
            "\n",
            "5 번 문제\n",
            "['닥터 스트레인지', '슈퍼맨', '스플릿', '럭키', '배트맨']\n",
            "\n",
            "6 번 문제\n",
            "[1, 3, 5, 7, 9]\n",
            "\n",
            "7 번 문제\n",
            "[1, 2, 3, 4, 5, 9, 10]\n",
            "\n",
            "8 번 문제\n",
            "이름 : 김민수 나이 : 10\n",
            "이름 : 이철희 나이 : 13\n"
          ]
        }
      ]
    }
  ]
}