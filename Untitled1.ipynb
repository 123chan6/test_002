{
  "nbformat": 4,
  "nbformat_minor": 0,
  "metadata": {
    "colab": {
      "name": "Untitled1.ipynb",
      "provenance": [],
      "authorship_tag": "ABX9TyMEyHJCSzXoR2+34k4dN9Gg",
      "include_colab_link": true
    },
    "kernelspec": {
      "name": "python3",
      "display_name": "Python 3"
    },
    "language_info": {
      "name": "python"
    }
  },
  "cells": [
    {
      "cell_type": "markdown",
      "metadata": {
        "id": "view-in-github",
        "colab_type": "text"
      },
      "source": [
        "<a href=\"https://colab.research.google.com/github/123chan6/test_002/blob/main/Untitled1.ipynb\" target=\"_parent\"><img src=\"https://colab.research.google.com/assets/colab-badge.svg\" alt=\"Open In Colab\"/></a>"
      ]
    },
    {
      "cell_type": "code",
      "source": [
        "from random import *\n",
        "set_01 = (range(int(input(\"숫자 입력 : \"))+1))\n",
        "set_01_result_01 = 0\n",
        "if 1 in set_01 :\n",
        "\n",
        "  set_01_result_01 = choice(set_01)\n",
        "\n",
        "print('결과 :',str(set_01_result_01))\n"
      ],
      "metadata": {
        "colab": {
          "base_uri": "https://localhost:8080/"
        },
        "id": "hsMZdUZ39skH",
        "outputId": "1ad98847-cb9c-44e7-8663-f1fe05bef4d1"
      },
      "execution_count": 10,
      "outputs": [
        {
          "output_type": "stream",
          "name": "stdout",
          "text": [
            "숫자 입력 : 0\n",
            "결과 : 0\n"
          ]
        }
      ]
    },
    {
      "cell_type": "code",
      "source": [
        ""
      ],
      "metadata": {
        "id": "WKbrCVil91gr"
      },
      "execution_count": null,
      "outputs": []
    }
  ]
}